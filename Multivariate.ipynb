{
 "cells": [
  {
   "cell_type": "code",
   "execution_count": 1,
   "metadata": {},
   "outputs": [],
   "source": [
    "import numpy as np\n",
    "import matplotlib.pyplot as plt\n",
    "import scipy.sparse\n",
    "import scipy.signal\n",
    "from scipy.fftpack.realtransforms import dct,idct\n",
    "from siac.utils import diffFilter,filt,dctND"
   ]
  },
  {
   "cell_type": "markdown",
   "metadata": {},
   "source": [
    "Consider an inverse correlation function $\\mathcal{C}^{-1}$ of the form:\n",
    "\n",
    "$$\n",
    "\\mathcal{C}^{-1} =  \\frac{1}{\\sigma_s^2} \\left( I + s D^TD \\right) = \\frac{1}{\\sigma_s^2} I +  \\frac{1}{\\sigma_s^2} s D^TD \n",
    "$$\n",
    "    \n",
    "where $s$ controls the correlation length and $\\frac{1}{\\sigma_s^2}$, a function of $s$, normalises the scale.\n",
    "\n",
    "We can express $D^TD$  as $U^T \\Lambda^2 U$ where $U$ is the eigenvector matrix of $D^TD$ and $\\Lambda^2$ a diagonal matrix with entries $\\lambda_i^2$ for row,column $i$. Then:\n",
    "\n",
    "$$\n",
    "\\mathcal{C}^{-1} = \\frac{1}{\\sigma_s^2} \\left( I + s U^T \\Lambda^2 U \\right) \n",
    "$$"
   ]
  },
  {
   "cell_type": "markdown",
   "metadata": {},
   "source": [
    "and:\n",
    "\n",
    "$$\n",
    "\\mathcal{C} = \\sigma_s^2 U^T\\Gamma^2 U \n",
    "$$"
   ]
  },
  {
   "cell_type": "markdown",
   "metadata": {},
   "source": [
    "with $\\Gamma^2$ a diagonal matrix with entries $\\gamma_i^2$. Then:\n",
    "\n",
    "$$\n",
    "\\gamma_i^2 =  \\left( 1  + s \\lambda_i^2 \\right)^{-1}\n",
    "$$\n",
    "\n",
    "The normalisation factor $\\frac{1}{\\sigma_s^2}$ is the trace of $\\Gamma^2$ divided by $n_x$, which we can write as:\n",
    "\n",
    "$$\n",
    "\\frac{1}{\\sigma_s^2} = \\frac{1}{n_x \\times n_y}\\sum^{j=n_j }_{j=1}  \\sum^{i=n_x }_{i=1} \\gamma_{i,j}^2 = \\overline{\\gamma^{2}}\n",
    "$$\n",
    "\n",
    "So, asymptotically (for large $n_x$):\n",
    "\n",
    "\n",
    "$$\n",
    "\\mathcal{C} = \\sigma_s^2 U^T\\Gamma^2 U \n",
    "$$\n",
    "\n",
    "with $\\sigma_s^2 = 1/\\overline{\\gamma^{2}}$. "
   ]
  },
  {
   "cell_type": "code",
   "execution_count": 189,
   "metadata": {},
   "outputs": [
    {
     "name": "stdout",
     "output_type": "stream",
     "text": [
      "1.0000000000000002e-10 2401.0\n",
      "[1.000e-10 1.000e-08 1.000e-06 1.000e-04 1.000e-02 2.500e-01 1.000e+00\n",
      " 4.000e+00 9.000e+00 1.600e+01 2.500e+01 3.600e+01 4.900e+01 6.400e+01\n",
      " 8.100e+01 1.000e+02 1.210e+02 1.440e+02 1.690e+02 1.960e+02 2.250e+02\n",
      " 2.560e+02 2.890e+02 3.240e+02 3.610e+02 4.000e+02 4.410e+02 4.840e+02\n",
      " 5.290e+02 5.760e+02 6.250e+02 6.760e+02 7.290e+02 7.840e+02 8.410e+02\n",
      " 9.000e+02 9.610e+02 1.024e+03 1.089e+03 1.156e+03 1.225e+03 1.296e+03\n",
      " 1.369e+03 1.444e+03 1.521e+03 1.600e+03 1.681e+03 1.764e+03 1.849e+03\n",
      " 1.936e+03 2.025e+03 2.116e+03 2.209e+03 2.304e+03 2.401e+03]\n"
     ]
    }
   ],
   "source": [
    "gammas = np.array([ 1e-5, 1e-4, 1e-3, 1e-2, 1e-1, \\\n",
    "                   1, 2, 3, 4, 5, 6, 7, 8, 9, \\\n",
    "                   1e1,50])\n",
    "gamma_small = np.array([ 1e-5, 1e-4, 1e-3, 1e-2, 1e-1, 0.5])\n",
    "gammas = np.concatenate([gamma_small,np.arange(1,50)])\n",
    "ss = gammas**2\n",
    "print(ss.min(),ss.max())\n",
    "print(ss)"
   ]
  },
  {
   "cell_type": "code",
   "execution_count": 190,
   "metadata": {},
   "outputs": [
    {
     "name": "stdout",
     "output_type": "stream",
     "text": [
      "1.0000000000000002e-10..1e-08..1e-06..0.0001..0.010000000000000002..0.25..1.0..4.0..9.0..16.0..25.0..36.0..49.0..64.0..81.0..100.0..121.0..144.0..169.0..196.0..225.0..256.0..289.0..324.0..361.0..400.0..441.0..484.0..529.0..576.0..625.0..676.0..729.0..784.0..841.0..900.0..961.0..1024.0..1089.0..1156.0..1225.0..1296.0..1369.0..1444.0..1521.0..1600.0..1681.0..1764.0..1849.0..1936.0..2025.0..2116.0..2209.0..2304.0..2401.0.."
     ]
    }
   ],
   "source": [
    "def getF(s,nx=None):\n",
    "    # make nx quite big to avoid edge effects\n",
    "    if nx is None:\n",
    "        nx = int(500*s/10)\n",
    "        nx = np.min([5000,np.max([1000,nx])])\n",
    "    \n",
    "    shape = (nx,nx)\n",
    "    halfx = int(nx/2)\n",
    "    lambda_i = diffFilter(shape,axis=(0,1))\n",
    "    gamma_i2 = 1/(1 +  s * lambda_i * lambda_i)\n",
    "    gamma2bar = np.mean(gamma_i2)  \n",
    "    sigmas = np.sqrt(1./gamma2bar)\n",
    "    \n",
    "    # impulse function\n",
    "    I = np.zeros(shape)\n",
    "    I[halfx,halfx]=1\n",
    "    F = filt(I,gamma_i2 * sigmas**2) \n",
    "    return F.max(),F,nx,sigmas\n",
    "\n",
    "ts = np.zeros_like(ss).astype(float)\n",
    "ns = np.zeros_like(ss).astype(float)\n",
    "sigmas = np.zeros_like(ss).astype(float)\n",
    "\n",
    "for i,s in enumerate(ss):\n",
    "    print(f'{s}',end='..')\n",
    "    ts[i],a,ns[i],sigmas[i] = getF(s)"
   ]
  },
  {
   "cell_type": "code",
   "execution_count": 191,
   "metadata": {},
   "outputs": [
    {
     "data": {
      "image/png": "[encoded data removed]",
      "text/plain": [
       "<Figure size 720x360 with 1 Axes>"
      ]
     },
     "metadata": {
      "needs_background": "light"
     },
     "output_type": "display_data"
    }
   ],
   "source": [
    "# check the normalisation works\n",
    "# if it does, then ts which is\n",
    "# C_max should be 1.0\n",
    "plt.figure(figsize=(10,5))\n",
    "plt.plot(ss,ts,'+')\n",
    "plt.xlabel('$\\gamma$')\n",
    "_=plt.ylabel('$\\mathcal{C}_{\\max}$')"
   ]
  },
  {
   "cell_type": "code",
   "execution_count": 192,
   "metadata": {},
   "outputs": [],
   "source": [
    "# save the results\n",
    "d = {'s':ss, 'gamma':gammas,'sigmas':sigmas,\\\n",
    "     'scale test':ts,'ns':ns }\n",
    "np.savez('sigmaLUT.npz',**d)"
   ]
  },
  {
   "cell_type": "markdown",
   "metadata": {},
   "source": [
    "Examine $\\sigma_s^2$  = $1/\\overline{\\gamma^{2}}$ as a function of $s$:"
   ]
  },
  {
   "cell_type": "code",
   "execution_count": 193,
   "metadata": {},
   "outputs": [
    {
     "name": "stdout",
     "output_type": "stream",
     "text": [
      "rmse: 0.49\n",
      "[1.03505048]\n"
     ]
    },
    {
     "data": {
      "image/png": "[encoded data removed]",
      "text/plain": [
       "<Figure size 432x288 with 1 Axes>"
      ]
     },
     "metadata": {
      "needs_background": "light"
     },
     "output_type": "display_data"
    }
   ],
   "source": [
    "from sklearn.linear_model import LinearRegression\n",
    "from sklearn.metrics import mean_squared_error\n",
    "\n",
    "npow = 2\n",
    "X = np.array([gammas**i for i in range(1,npow)]).T\n",
    "y = sigmas\n",
    "model = LinearRegression()\n",
    "model.fit(X, y)\n",
    "yhat = model.predict(X)\n",
    "mse = mean_squared_error(y, yhat)\n",
    "print(f'rmse: {np.sqrt(mse):.2f}')\n",
    "print(model.coef_)\n",
    "\n",
    "plt.plot(gammas,sigmas)\n",
    "\n",
    "# the main effect\n",
    "# for low s is \n",
    "# sigmas ~= 1 + gammas*k\n",
    "# with k ~= 1.1\n",
    "plt.plot(gammas,yhat,'g--')\n",
    "plt.xlim(0,40)\n",
    "plt.ylim(0,40)\n",
    "plt.xlabel('$\\sqrt{s}$')\n",
    "_=plt.ylabel('$\\sigma_s$')"
   ]
  },
  {
   "cell_type": "markdown",
   "metadata": {},
   "source": [
    "One interesting feature  is that for low to moderate $s$ (up to 25 perhaps) we have $\\sigma_s \\approx 1 + 1.035 \\sqrt{s}$ (the green line above)."
   ]
  },
  {
   "cell_type": "markdown",
   "metadata": {},
   "source": [
    "## Implications"
   ]
  },
  {
   "cell_type": "markdown",
   "metadata": {},
   "source": [
    "So we have the inverse correlation function:\n",
    "\n",
    "\n",
    "$$\n",
    "\\mathcal{C}^{-1} =  \\sigma_s^{-2} \\left( I + s D^TD \\right) = \\sigma_s^{-2} I +  \\sigma_s^{-2} s D^TD \n",
    "$$\n",
    "\n",
    "with $\\sigma_s \\approx 1 + 1.05 \\sqrt{s}$."
   ]
  },
  {
   "cell_type": "markdown",
   "metadata": {},
   "source": [
    "which leads to the inverse covariance function:\n",
    "\n",
    "$$\n",
    "C^{-1} =  \\frac{1}{\\sigma_s^2 \\sigma_x^2} \\left( I + s D^TD \\right) = \\frac{1}{\\sigma_s^2  \\sigma_x^2}  I +  \\frac{1}{\\sigma_s^2  \\sigma_x^2}  s D^TD  \n",
    "$$\n",
    "\n",
    "and the covariance function:"
   ]
  },
  {
   "cell_type": "markdown",
   "metadata": {},
   "source": [
    "$$\n",
    "C = \\sigma_s^2 \\sigma_x^2 U^T  \\Gamma^2 U\n",
    "$$"
   ]
  },
  {
   "cell_type": "markdown",
   "metadata": {},
   "source": [
    "so, e.g. we have $\\sigma_x = 0.3$ and $s = 1600$ (high)"
   ]
  },
  {
   "cell_type": "markdown",
   "metadata": {},
   "source": [
    "So the covariance function should be:"
   ]
  },
  {
   "cell_type": "code",
   "execution_count": 194,
   "metadata": {},
   "outputs": [
    {
     "name": "stdout",
     "output_type": "stream",
     "text": [
      "40.0 40.0\n",
      "lut 42.96316535448708\n",
      "explicit 41.40350871791929\n",
      "90000\n",
      "0.08960383982276593 0.08321629434496328 0.09\n"
     ]
    },
    {
     "data": {
      "image/png": "[encoded data removed]",
      "text/plain": [
       "<Figure size 720x216 with 4 Axes>"
      ]
     },
     "metadata": {
      "needs_background": "light"
     },
     "output_type": "display_data"
    }
   ],
   "source": [
    "s = 1600\n",
    "sigma_x = 0.3\n",
    "# set gammas\n",
    "\n",
    "# LUT to get sigma_s\n",
    "gamma = np.sqrt(s)\n",
    "ilut = np.argmin(np.abs(gammas - gamma))\n",
    "sigma_s = sigmas[ilut]\n",
    "gamma2bar = 1./(sigma_s*sigma_s)\n",
    "\n",
    "print(gammas[ilut],gamma)\n",
    "print('lut',sigma_s)\n",
    "\n",
    "nx = 300\n",
    "shape = (nx,nx)\n",
    "halfx = int(nx/2)\n",
    "\n",
    "# eigenvalues\n",
    "lambda_i = diffFilter(shape,axis=(0,1))\n",
    "gamma_i2 = 1/(1 +  s * lambda_i * lambda_i)\n",
    "\n",
    "# this will vary slightly with sx\n",
    "print('explicit',np.sqrt(1./gamma_i2.mean()))\n",
    "\n",
    "# impulse function\n",
    "I = np.zeros(shape)\n",
    "I[halfx,halfx]=1\n",
    "\n",
    "# from above \n",
    "C = filt(I,gamma_i2) * (sigma_s*sigma_s) * (sigma_x * sigma_x)\n",
    "\n",
    "fig,(im1,im2) = plt.subplots(1,2,figsize=(10,3))\n",
    "im = im1.imshow(C)\n",
    "im1.set_title(\"explicit calculation\")\n",
    "fig.colorbar(im, ax=im1)\n",
    "\n",
    "# use getF to see impact of nx\n",
    "Ca = getF(s,nx=nx)[1]* (sigma_x * sigma_x)\n",
    "im = im2.imshow(Ca)\n",
    "im2.set_title(\"test fn\")\n",
    "fig.colorbar(im, ax=im2)\n",
    "\n",
    "print(len(np.where(C>0)[0]))\n",
    "print(C.max(),Ca.max(),sigma_x*sigma_x)"
   ]
  },
  {
   "cell_type": "markdown",
   "metadata": {},
   "source": [
    "$$\n",
    "C = \\sigma_s^2 \\sigma_x^2 U^T  \\Gamma^2 U\n",
    "$$\n",
    "\n",
    "So, if e.g. we design a prior covariance constraint for DA, we can phrase it as:\n",
    "$$\n",
    "C^{-1} =  \\frac{1}{\\sigma_s^2 \\sigma_x^2} \\left( I + s D^TD \\right) \n",
    "$$\n",
    "\n",
    "or, in the form of Lewis et al. (2012):\n",
    "\n",
    "$$\n",
    "C^{-1} =  \\frac{1}{\\sigma_p^2}  I + \\gamma^2 D^TD \n",
    "$$\n",
    "\n",
    "To use this form, we need to set:\n",
    "\n",
    "$$\n",
    "\\sigma_p^2 = \\sigma_s^2 \\sigma_x^2\n",
    "$$\n",
    "\n",
    "and \n",
    "\n",
    "$$\n",
    "\\gamma^2 = \\frac{s}{\\sigma_s^2 \\sigma_x^2} \\approx \\frac{s}{ \\sigma_x^2 (1 + \\sqrt{s})^2}\n",
    "$$"
   ]
  },
  {
   "cell_type": "code",
   "execution_count": 195,
   "metadata": {},
   "outputs": [
    {
     "name": "stdout",
     "output_type": "stream",
     "text": [
      "40.0 40.0\n",
      "lut 42.96316535448708\n",
      "desired:     40.00 0.30\n",
      "transformed: 3.10 12.89\n",
      "approx 2.36\n",
      "inflation factor on sigma_x 42.96\n"
     ]
    }
   ],
   "source": [
    "# set the intended terms\n",
    "s = 1600\n",
    "sigma_x = 0.3\n",
    "#######\n",
    "\n",
    "# LUT to get sigma_s\n",
    "gamma = np.sqrt(s)\n",
    "ilut = np.argmin(np.abs(gammas - gamma))\n",
    "sigma_s = sigmas[ilut]\n",
    "print(gammas[ilut],gamma)\n",
    "print('lut',sigma_s)\n",
    "\n",
    "# use these in Lewis et al formulae\n",
    "sigma_p2 = (sigma_s*sigma_s) * (sigma_x * sigma_x)\n",
    "gamma2 = s / sigma_p2\n",
    "print(f'desired:     {np.sqrt(s):.2f} {sigma_x:.2f}')\n",
    "print(f'transformed: {np.sqrt(gamma2):.2f} {np.sqrt(sigma_p2):.2f}')\n",
    "print(f'approx {1/(np.sqrt(2)*sigma_x):.2f}')\n",
    "print(f'inflation factor on sigma_x {sigma_s:.2f}')"
   ]
  },
  {
   "cell_type": "code",
   "execution_count": 196,
   "metadata": {},
   "outputs": [
    {
     "data": {
      "text/plain": [
       "<matplotlib.colorbar.Colorbar at 0x7ff5c4bc4820>"
      ]
     },
     "execution_count": 196,
     "metadata": {},
     "output_type": "execute_result"
    },
    {
     "data": {
      "image/png": "[encoded data removed]",
      "text/plain": [
       "<Figure size 720x216 with 4 Axes>"
      ]
     },
     "metadata": {
      "needs_background": "light"
     },
     "output_type": "display_data"
    }
   ],
   "source": [
    "nx = 300\n",
    "shape = (nx,nx)\n",
    "halfx = int(nx/2)\n",
    "\n",
    "# eigenvalues\n",
    "lambda_i = diffFilter(shape,axis=(0,1))\n",
    "# full form\n",
    "gamma_i2 = 1/(1/sigma_p2 +  gamma2 * lambda_i * lambda_i)\n",
    "\n",
    "# impulse function\n",
    "I = np.zeros(shape)\n",
    "I[halfx,halfx]=1\n",
    "\n",
    "# from above \n",
    "C_ = filt(I,gamma_i2) \n",
    "\n",
    "fig,(im1,im2) = plt.subplots(1,2,figsize=(10,3))\n",
    "im = im1.imshow(C)\n",
    "im1.set_title(\"original calculation\")\n",
    "fig.colorbar(im, ax=im1)\n",
    "\n",
    "# use formula here\n",
    "im = im2.imshow(C_)\n",
    "im2.set_title(\"test fn\")\n",
    "fig.colorbar(im, ax=im2)"
   ]
  },
  {
   "cell_type": "code",
   "execution_count": 197,
   "metadata": {},
   "outputs": [
    {
     "data": {
      "text/plain": [
       "Text(0.5, 0, '$\\\\sigma_s$')"
      ]
     },
     "execution_count": 197,
     "metadata": {},
     "output_type": "execute_result"
    },
    {
     "data": {
      "image/png": "[encoded data removed]",
      "text/plain": [
       "<Figure size 432x288 with 1 Axes>"
      ]
     },
     "metadata": {
      "needs_background": "light"
     },
     "output_type": "display_data"
    }
   ],
   "source": [
    "plt.title('inflation factor $\\sigma_s$ on $\\sigma_x$')\n",
    "plt.plot(gammas,sigmas,'+-')\n",
    "plt.plot(gammas,(1+gammas),'r--')\n",
    "plt.xlabel('$\\sqrt{s}$')\n",
    "plt.xlabel('$\\sigma_s$')"
   ]
  },
  {
   "cell_type": "markdown",
   "metadata": {},
   "source": [
    "## Conclusions\n",
    "\n",
    "To use Lewis form to describe prior covariance function, for some desired prior variance $\\sigma_x^2$ and smoothness factor $s$, you need to scale $\\sigma_x$ by a factor $\\sigma_s$ given by the LUT here or $\\approx (1 + \\sqrt{s})$. \n",
    "\n",
    "You also need to use:\n",
    "\n",
    "$$\n",
    "\\gamma^2 = \\frac{s}{\\sigma_s^2 \\sigma_x^2} \\approx \\frac{s}{ \\sigma_x^2 (1 + \\sqrt{s})^2}\n",
    "$$\n"
   ]
  },
  {
   "cell_type": "code",
   "execution_count": 200,
   "metadata": {},
   "outputs": [],
   "source": [
    "\n",
    "def scaler(sigma_x,s):\n",
    "    '''\n",
    "    warning: dont use beyond extent of training\n",
    "    ... its only a LUT!\n",
    "    '''\n",
    "    d = np.load('sigmaLUT.npz')\n",
    "    gammas = d['gamma']\n",
    "    # LUT to get sigma_s\n",
    "    gamma = np.sqrt(s)\n",
    "    ilut = np.argmin(np.abs(gammas - gamma))\n",
    "    sigma_s = sigmas[ilut]\n",
    "    sigma_p = sigma_s*sigma_x\n",
    "    return sigma_p,s/(sigma_p**2)"
   ]
  },
  {
   "cell_type": "code",
   "execution_count": 201,
   "metadata": {},
   "outputs": [
    {
     "name": "stdout",
     "output_type": "stream",
     "text": [
      "(1.346317232599291, 5.517028031517673)\n"
     ]
    }
   ],
   "source": [
    "print(scaler(0.3,10))"
   ]
  },
  {
   "cell_type": "code",
   "execution_count": 202,
   "metadata": {},
   "outputs": [
    {
     "name": "stdout",
     "output_type": "stream",
     "text": [
      "(0.9763425664447036, 5.245242316571189)\n"
     ]
    }
   ],
   "source": [
    "print(scaler(0.3,5))"
   ]
  },
  {
   "cell_type": "code",
   "execution_count": 203,
   "metadata": {},
   "outputs": [
    {
     "name": "stdout",
     "output_type": "stream",
     "text": [
      "(0.5948492994308471, 5.652181337756496)\n"
     ]
    }
   ],
   "source": [
    "print(scaler(0.3,2))"
   ]
  },
  {
   "cell_type": "code",
   "execution_count": null,
   "metadata": {},
   "outputs": [],
   "source": []
  }
 ],
 "metadata": {
  "kernelspec": {
   "display_name": "Python 3",
   "language": "python",
   "name": "python3"
  },
  "language_info": {
   "codemirror_mode": {
    "name": "ipython",
    "version": 3
   },
   "file_extension": ".py",
   "mimetype": "text/x-python",
   "name": "python",
   "nbconvert_exporter": "python",
   "pygments_lexer": "ipython3",
   "version": "3.8.3"
  }
 },
 "nbformat": 4,
 "nbformat_minor": 4
}
